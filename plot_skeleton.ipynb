{
 "cells": [
  {
   "cell_type": "code",
   "execution_count": 6,
   "source": [
    "from utils.utils_IO import load_object\n",
    "from utils.utils_plotting import plot_cams_and_points\n",
    "from copy import deepcopy\n",
    "\n",
    "\n",
    "load_dict = load_object(\"sawtell_points.pickle\")\n",
    "config = load_dict[\"config\"]\n",
    "cam_group = load_dict[\"cam_group\"]\n",
    "points_3d = load_dict[\"points_3d\"]\n",
    "bp_names = config[\"bp_names\"]\n",
    "\n",
    "skeleton_bp = {}\n",
    "frame_i = 256\n",
    "\n",
    "slice_3d = points_3d[frame_i]\n",
    "for i, bp in enumerate(bp_names):\n",
    "    skeleton_bp[bp] = points_3d[frame_i, i, :]\n",
    "skeleton_lines = config.skeleton\n",
    "\n",
    "cam_names = [\"Top\", \"Front\", \"Side\"]\n",
    "\n",
    "skel_fig = plot_cams_and_points(\n",
    "    cam_group=cam_group,\n",
    "    points_3d=slice_3d,\n",
    "    point_size=3,\n",
    "    skeleton_bp=skeleton_bp,\n",
    "    skeleton_lines=skeleton_lines,\n",
    "    font_size=20,\n",
    "    point_colors=config.color_list,\n",
    "    cam_names=cam_names,\n",
    ")\n",
    "\n",
    "xe = 0\n",
    "ye = -1 * 0.7\n",
    "ze = -2 * 0.7\n",
    "scene_camera = dict(\n",
    "    up=dict(x=0, y=-0.5, z=0),\n",
    "    eye=dict(x=xe, y=ye, z=ze),\n",
    ")\n",
    "\n",
    "skel_fig_layout = deepcopy(skel_fig)\n",
    "skel_fig_layout.update_layout(scene_camera=scene_camera)\n",
    "skel_fig[\"layout\"] = skel_fig_layout[\"layout\"]\n",
    "\n",
    "skel_fig.write_image(\"fish_recon.eps\")"
   ],
   "outputs": [
    {
     "output_type": "display_data",
     "data": {
      "application/vnd.plotly.v1+json": {
       "config": {
        "plotlyServerURL": "https://plot.ly"
       },
       "data": [
        {
         "marker": {
          "color": [
           "blue",
           "red",
           "red",
           "red",
           "red",
           "red",
           "white",
           "orange",
           "green",
           "green",
           "purple",
           "purple",
           "purple",
           "purple"
          ],
          "size": 3
         },
         "mode": "markers",
         "textfont": {
          "size": 20
         },
         "type": "scatter3d",
         "x": [
          -0.06204582109290822,
          0.03691698513865583,
          0.04347699178184754,
          0.04874576152808909,
          0.0524219660857808,
          0.054257377219314305,
          -0.1347350038028889,
          -0.28855844714599355,
          -0.39392306375035896,
          -0.38429418132677257,
          -0.11622601284862234,
          -0.08931962487158643,
          -0.07632496071805459,
          -0.06922096411754065
         ],
         "y": [
          0.207347227967167,
          0.2487985750257327,
          0.25668545139965837,
          0.26432269666374175,
          0.2733058801510451,
          0.28185823830172985,
          0.19190765625035894,
          0.16450939847607327,
          0.11997703658987911,
          0.19855117905235242,
          0.21136945551934982,
          0.22916624103572172,
          0.19927430684913539,
          0.22463098652955704
         ],
         "z": [
          1.9502184409974783,
          1.9807121229681164,
          1.985953529448597,
          1.9916701057863317,
          1.9972414391634665,
          2.0027177052524565,
          1.9378310719975762,
          1.9373767685590286,
          1.9488568922465164,
          1.9495177846375227,
          2.025075590656426,
          1.8698957208888038,
          1.9735178254245285,
          1.9244736638558095
         ]
        },
        {
         "line": {
          "color": "red",
          "width": 5
         },
         "marker": {
          "color": "blue",
          "size": [
           0,
           5
          ]
         },
         "mode": "lines+markers+text",
         "name": "Top",
         "text": [
          "Top",
          ""
         ],
         "textfont": {
          "size": 20
         },
         "type": "scatter3d",
         "x": [
          -0.07473420579696162,
          0.12485680733228828
         ],
         "y": [
          -1.9201302716637492,
          -1.9297537337352548
         ],
         "z": [
          1.98726349395699,
          1.9956787453375409
         ]
        },
        {
         "line": {
          "color": "blue",
          "width": 5
         },
         "marker": {
          "color": "blue",
          "size": [
           0,
           5
          ]
         },
         "mode": "lines+markers+text",
         "name": "Top",
         "text": [
          "Top",
          ""
         ],
         "textfont": {
          "size": 20
         },
         "type": "scatter3d",
         "x": [
          -0.07473420579696162,
          -0.06474342500716684
         ],
         "y": [
          -1.9201302716637492,
          -1.8848463954926638
         ],
         "z": [
          1.98726349395699,
          1.7906541544495451
         ]
        },
        {
         "line": {
          "color": "green",
          "width": 5
         },
         "marker": {
          "color": "blue",
          "size": [
           0,
           5
          ]
         },
         "mode": "lines+markers+text",
         "name": "Top",
         "text": [
          "Top",
          ""
         ],
         "textfont": {
          "size": 20
         },
         "type": "scatter3d",
         "x": [
          -0.07473420579696162,
          -0.06675850662699272
         ],
         "y": [
          -1.9201302716637492,
          -1.7235026106897606
         ],
         "z": [
          1.98726349395699,
          2.0229559464175364
         ]
        },
        {
         "line": {
          "color": "red",
          "width": 5
         },
         "marker": {
          "color": "blue",
          "size": [
           0,
           5
          ]
         },
         "mode": "lines+markers+text",
         "name": "Front",
         "text": [
          "Front",
          ""
         ],
         "textfont": {
          "size": 20
         },
         "type": "scatter3d",
         "x": [
          0.10633497473968409,
          0.3056284833420694
         ],
         "y": [
          -0.059904227920221396,
          -0.04554280755172232
         ],
         "z": [
          0.06835941631097187,
          0.07706843657448238
         ]
        },
        {
         "line": {
          "color": "blue",
          "width": 5
         },
         "marker": {
          "color": "blue",
          "size": [
           0,
           5
          ]
         },
         "mode": "lines+markers+text",
         "name": "Front",
         "text": [
          "Front",
          ""
         ],
         "textfont": {
          "size": 20
         },
         "type": "scatter3d",
         "x": [
          0.10633497473968409,
          0.09212397921311963
         ],
         "y": [
          -0.059904227920221396,
          0.13955562944526712
         ],
         "z": [
          0.06835941631097187,
          0.0646428445192596
         ]
        },
        {
         "line": {
          "color": "green",
          "width": 5
         },
         "marker": {
          "color": "blue",
          "size": [
           0,
           5
          ]
         },
         "mode": "lines+markers+text",
         "name": "Front",
         "text": [
          "Front",
          ""
         ],
         "textfont": {
          "size": 20
         },
         "type": "scatter3d",
         "x": [
          0.10633497473968409,
          0.09738259879276688
         ],
         "y": [
          -0.059904227920221396,
          -0.056819603998533974
         ],
         "z": [
          0.06835941631097187,
          0.26813514071252875
         ]
        },
        {
         "line": {
          "color": "red",
          "width": 5
         },
         "marker": {
          "color": "blue",
          "size": [
           0,
           5
          ]
         },
         "mode": "lines+markers+text",
         "name": "Side",
         "text": [
          "Side",
          ""
         ],
         "textfont": {
          "size": 20
         },
         "type": "scatter3d",
         "x": [
          1.9113535417944172,
          1.918184581097481
         ],
         "y": [
          0.1532164668455219,
          0.19137137128022785
         ],
         "z": [
          1.2802460181140825,
          1.4764539184892165
         ]
        },
        {
         "line": {
          "color": "blue",
          "width": 5
         },
         "marker": {
          "color": "blue",
          "size": [
           0,
           5
          ]
         },
         "mode": "lines+markers+text",
         "name": "Side",
         "text": [
          "Side",
          ""
         ],
         "textfont": {
          "size": 20
         },
         "type": "scatter3d",
         "x": [
          1.9113535417944172,
          1.8946344406355737
         ],
         "y": [
          0.1532164668455219,
          0.3489600034991147
         ],
         "z": [
          1.2802460181140825,
          1.2427634953230007
         ]
        },
        {
         "line": {
          "color": "green",
          "width": 5
         },
         "marker": {
          "color": "blue",
          "size": [
           0,
           5
          ]
         },
         "mode": "lines+markers+text",
         "name": "Side",
         "text": [
          "Side",
          ""
         ],
         "textfont": {
          "size": 20
         },
         "type": "scatter3d",
         "x": [
          1.9113535417944172,
          1.7121706897250677
         ],
         "y": [
          0.1532164668455219,
          0.13809459110466046
         ],
         "z": [
          1.2802460181140825,
          1.2901212556098387
         ]
        },
        {
         "line": {
          "color": "gray",
          "width": 5
         },
         "marker": {
          "color": "blue",
          "size": [
           0,
           5
          ]
         },
         "mode": "lines+markers+text",
         "name": "",
         "text": [
          "",
          ""
         ],
         "textfont": {
          "size": 20
         },
         "type": "scatter3d",
         "x": [
          -0.06204582109290822,
          0.03691698513865583
         ],
         "y": [
          0.207347227967167,
          0.2487985750257327
         ],
         "z": [
          1.9502184409974783,
          1.9807121229681164
         ]
        },
        {
         "line": {
          "color": "gray",
          "width": 5
         },
         "marker": {
          "color": "blue",
          "size": [
           0,
           5
          ]
         },
         "mode": "lines+markers+text",
         "name": "",
         "text": [
          "",
          ""
         ],
         "textfont": {
          "size": 20
         },
         "type": "scatter3d",
         "x": [
          0.03691698513865583,
          0.04347699178184754
         ],
         "y": [
          0.2487985750257327,
          0.25668545139965837
         ],
         "z": [
          1.9807121229681164,
          1.985953529448597
         ]
        },
        {
         "line": {
          "color": "gray",
          "width": 5
         },
         "marker": {
          "color": "blue",
          "size": [
           0,
           5
          ]
         },
         "mode": "lines+markers+text",
         "name": "",
         "text": [
          "",
          ""
         ],
         "textfont": {
          "size": 20
         },
         "type": "scatter3d",
         "x": [
          0.04347699178184754,
          0.04874576152808909
         ],
         "y": [
          0.25668545139965837,
          0.26432269666374175
         ],
         "z": [
          1.985953529448597,
          1.9916701057863317
         ]
        },
        {
         "line": {
          "color": "gray",
          "width": 5
         },
         "marker": {
          "color": "blue",
          "size": [
           0,
           5
          ]
         },
         "mode": "lines+markers+text",
         "name": "",
         "text": [
          "",
          ""
         ],
         "textfont": {
          "size": 20
         },
         "type": "scatter3d",
         "x": [
          0.04874576152808909,
          0.0524219660857808
         ],
         "y": [
          0.26432269666374175,
          0.2733058801510451
         ],
         "z": [
          1.9916701057863317,
          1.9972414391634665
         ]
        },
        {
         "line": {
          "color": "gray",
          "width": 5
         },
         "marker": {
          "color": "blue",
          "size": [
           0,
           5
          ]
         },
         "mode": "lines+markers+text",
         "name": "",
         "text": [
          "",
          ""
         ],
         "textfont": {
          "size": 20
         },
         "type": "scatter3d",
         "x": [
          0.0524219660857808,
          0.054257377219314305
         ],
         "y": [
          0.2733058801510451,
          0.28185823830172985
         ],
         "z": [
          1.9972414391634665,
          2.0027177052524565
         ]
        },
        {
         "line": {
          "color": "gray",
          "width": 5
         },
         "marker": {
          "color": "blue",
          "size": [
           0,
           5
          ]
         },
         "mode": "lines+markers+text",
         "name": "",
         "text": [
          "",
          ""
         ],
         "textfont": {
          "size": 20
         },
         "type": "scatter3d",
         "x": [
          -0.06204582109290822,
          -0.1347350038028889
         ],
         "y": [
          0.207347227967167,
          0.19190765625035894
         ],
         "z": [
          1.9502184409974783,
          1.9378310719975762
         ]
        },
        {
         "line": {
          "color": "gray",
          "width": 5
         },
         "marker": {
          "color": "blue",
          "size": [
           0,
           5
          ]
         },
         "mode": "lines+markers+text",
         "name": "",
         "text": [
          "",
          ""
         ],
         "textfont": {
          "size": 20
         },
         "type": "scatter3d",
         "x": [
          -0.1347350038028889,
          -0.28855844714599355
         ],
         "y": [
          0.19190765625035894,
          0.16450939847607327
         ],
         "z": [
          1.9378310719975762,
          1.9373767685590286
         ]
        },
        {
         "line": {
          "color": "gray",
          "width": 5
         },
         "marker": {
          "color": "blue",
          "size": [
           0,
           5
          ]
         },
         "mode": "lines+markers+text",
         "name": "",
         "text": [
          "",
          ""
         ],
         "textfont": {
          "size": 20
         },
         "type": "scatter3d",
         "x": [
          -0.39392306375035896,
          -0.28855844714599355
         ],
         "y": [
          0.11997703658987911,
          0.16450939847607327
         ],
         "z": [
          1.9488568922465164,
          1.9373767685590286
         ]
        },
        {
         "line": {
          "color": "gray",
          "width": 5
         },
         "marker": {
          "color": "blue",
          "size": [
           0,
           5
          ]
         },
         "mode": "lines+markers+text",
         "name": "",
         "text": [
          "",
          ""
         ],
         "textfont": {
          "size": 20
         },
         "type": "scatter3d",
         "x": [
          -0.38429418132677257,
          -0.28855844714599355
         ],
         "y": [
          0.19855117905235242,
          0.16450939847607327
         ],
         "z": [
          1.9495177846375227,
          1.9373767685590286
         ]
        },
        {
         "line": {
          "color": "gray",
          "width": 5
         },
         "marker": {
          "color": "blue",
          "size": [
           0,
           5
          ]
         },
         "mode": "lines+markers+text",
         "name": "",
         "text": [
          "",
          ""
         ],
         "textfont": {
          "size": 20
         },
         "type": "scatter3d",
         "x": [
          -0.07632496071805459,
          -0.11622601284862234
         ],
         "y": [
          0.19927430684913539,
          0.21136945551934982
         ],
         "z": [
          1.9735178254245285,
          2.025075590656426
         ]
        },
        {
         "line": {
          "color": "gray",
          "width": 5
         },
         "marker": {
          "color": "blue",
          "size": [
           0,
           5
          ]
         },
         "mode": "lines+markers+text",
         "name": "",
         "text": [
          "",
          ""
         ],
         "textfont": {
          "size": 20
         },
         "type": "scatter3d",
         "x": [
          -0.06204582109290822,
          -0.07632496071805459
         ],
         "y": [
          0.207347227967167,
          0.19927430684913539
         ],
         "z": [
          1.9502184409974783,
          1.9735178254245285
         ]
        },
        {
         "line": {
          "color": "gray",
          "width": 5
         },
         "marker": {
          "color": "blue",
          "size": [
           0,
           5
          ]
         },
         "mode": "lines+markers+text",
         "name": "",
         "text": [
          "",
          ""
         ],
         "textfont": {
          "size": 20
         },
         "type": "scatter3d",
         "x": [
          -0.06922096411754065,
          -0.08931962487158643
         ],
         "y": [
          0.22463098652955704,
          0.22916624103572172
         ],
         "z": [
          1.9244736638558095,
          1.8698957208888038
         ]
        },
        {
         "line": {
          "color": "gray",
          "width": 5
         },
         "marker": {
          "color": "blue",
          "size": [
           0,
           5
          ]
         },
         "mode": "lines+markers+text",
         "name": "",
         "text": [
          "",
          ""
         ],
         "textfont": {
          "size": 20
         },
         "type": "scatter3d",
         "x": [
          -0.06204582109290822,
          -0.06922096411754065
         ],
         "y": [
          0.207347227967167,
          0.22463098652955704
         ],
         "z": [
          1.9502184409974783,
          1.9244736638558095
         ]
        }
       ],
       "layout": {
        "margin": {
         "b": 0,
         "l": 0,
         "r": 0,
         "t": 0
        },
        "scene": {
         "camera": {}
        },
        "showlegend": false,
        "template": {
         "data": {
          "bar": [
           {
            "error_x": {
             "color": "#2a3f5f"
            },
            "error_y": {
             "color": "#2a3f5f"
            },
            "marker": {
             "line": {
              "color": "#E5ECF6",
              "width": 0.5
             }
            },
            "type": "bar"
           }
          ],
          "barpolar": [
           {
            "marker": {
             "line": {
              "color": "#E5ECF6",
              "width": 0.5
             }
            },
            "type": "barpolar"
           }
          ],
          "carpet": [
           {
            "aaxis": {
             "endlinecolor": "#2a3f5f",
             "gridcolor": "white",
             "linecolor": "white",
             "minorgridcolor": "white",
             "startlinecolor": "#2a3f5f"
            },
            "baxis": {
             "endlinecolor": "#2a3f5f",
             "gridcolor": "white",
             "linecolor": "white",
             "minorgridcolor": "white",
             "startlinecolor": "#2a3f5f"
            },
            "type": "carpet"
           }
          ],
          "choropleth": [
           {
            "colorbar": {
             "outlinewidth": 0,
             "ticks": ""
            },
            "type": "choropleth"
           }
          ],
          "contour": [
           {
            "colorbar": {
             "outlinewidth": 0,
             "ticks": ""
            },
            "colorscale": [
             [
              0,
              "#0d0887"
             ],
             [
              0.1111111111111111,
              "#46039f"
             ],
             [
              0.2222222222222222,
              "#7201a8"
             ],
             [
              0.3333333333333333,
              "#9c179e"
             ],
             [
              0.4444444444444444,
              "#bd3786"
             ],
             [
              0.5555555555555556,
              "#d8576b"
             ],
             [
              0.6666666666666666,
              "#ed7953"
             ],
             [
              0.7777777777777778,
              "#fb9f3a"
             ],
             [
              0.8888888888888888,
              "#fdca26"
             ],
             [
              1,
              "#f0f921"
             ]
            ],
            "type": "contour"
           }
          ],
          "contourcarpet": [
           {
            "colorbar": {
             "outlinewidth": 0,
             "ticks": ""
            },
            "type": "contourcarpet"
           }
          ],
          "heatmap": [
           {
            "colorbar": {
             "outlinewidth": 0,
             "ticks": ""
            },
            "colorscale": [
             [
              0,
              "#0d0887"
             ],
             [
              0.1111111111111111,
              "#46039f"
             ],
             [
              0.2222222222222222,
              "#7201a8"
             ],
             [
              0.3333333333333333,
              "#9c179e"
             ],
             [
              0.4444444444444444,
              "#bd3786"
             ],
             [
              0.5555555555555556,
              "#d8576b"
             ],
             [
              0.6666666666666666,
              "#ed7953"
             ],
             [
              0.7777777777777778,
              "#fb9f3a"
             ],
             [
              0.8888888888888888,
              "#fdca26"
             ],
             [
              1,
              "#f0f921"
             ]
            ],
            "type": "heatmap"
           }
          ],
          "heatmapgl": [
           {
            "colorbar": {
             "outlinewidth": 0,
             "ticks": ""
            },
            "colorscale": [
             [
              0,
              "#0d0887"
             ],
             [
              0.1111111111111111,
              "#46039f"
             ],
             [
              0.2222222222222222,
              "#7201a8"
             ],
             [
              0.3333333333333333,
              "#9c179e"
             ],
             [
              0.4444444444444444,
              "#bd3786"
             ],
             [
              0.5555555555555556,
              "#d8576b"
             ],
             [
              0.6666666666666666,
              "#ed7953"
             ],
             [
              0.7777777777777778,
              "#fb9f3a"
             ],
             [
              0.8888888888888888,
              "#fdca26"
             ],
             [
              1,
              "#f0f921"
             ]
            ],
            "type": "heatmapgl"
           }
          ],
          "histogram": [
           {
            "marker": {
             "colorbar": {
              "outlinewidth": 0,
              "ticks": ""
             }
            },
            "type": "histogram"
           }
          ],
          "histogram2d": [
           {
            "colorbar": {
             "outlinewidth": 0,
             "ticks": ""
            },
            "colorscale": [
             [
              0,
              "#0d0887"
             ],
             [
              0.1111111111111111,
              "#46039f"
             ],
             [
              0.2222222222222222,
              "#7201a8"
             ],
             [
              0.3333333333333333,
              "#9c179e"
             ],
             [
              0.4444444444444444,
              "#bd3786"
             ],
             [
              0.5555555555555556,
              "#d8576b"
             ],
             [
              0.6666666666666666,
              "#ed7953"
             ],
             [
              0.7777777777777778,
              "#fb9f3a"
             ],
             [
              0.8888888888888888,
              "#fdca26"
             ],
             [
              1,
              "#f0f921"
             ]
            ],
            "type": "histogram2d"
           }
          ],
          "histogram2dcontour": [
           {
            "colorbar": {
             "outlinewidth": 0,
             "ticks": ""
            },
            "colorscale": [
             [
              0,
              "#0d0887"
             ],
             [
              0.1111111111111111,
              "#46039f"
             ],
             [
              0.2222222222222222,
              "#7201a8"
             ],
             [
              0.3333333333333333,
              "#9c179e"
             ],
             [
              0.4444444444444444,
              "#bd3786"
             ],
             [
              0.5555555555555556,
              "#d8576b"
             ],
             [
              0.6666666666666666,
              "#ed7953"
             ],
             [
              0.7777777777777778,
              "#fb9f3a"
             ],
             [
              0.8888888888888888,
              "#fdca26"
             ],
             [
              1,
              "#f0f921"
             ]
            ],
            "type": "histogram2dcontour"
           }
          ],
          "mesh3d": [
           {
            "colorbar": {
             "outlinewidth": 0,
             "ticks": ""
            },
            "type": "mesh3d"
           }
          ],
          "parcoords": [
           {
            "line": {
             "colorbar": {
              "outlinewidth": 0,
              "ticks": ""
             }
            },
            "type": "parcoords"
           }
          ],
          "pie": [
           {
            "automargin": true,
            "type": "pie"
           }
          ],
          "scatter": [
           {
            "marker": {
             "colorbar": {
              "outlinewidth": 0,
              "ticks": ""
             }
            },
            "type": "scatter"
           }
          ],
          "scatter3d": [
           {
            "line": {
             "colorbar": {
              "outlinewidth": 0,
              "ticks": ""
             }
            },
            "marker": {
             "colorbar": {
              "outlinewidth": 0,
              "ticks": ""
             }
            },
            "type": "scatter3d"
           }
          ],
          "scattercarpet": [
           {
            "marker": {
             "colorbar": {
              "outlinewidth": 0,
              "ticks": ""
             }
            },
            "type": "scattercarpet"
           }
          ],
          "scattergeo": [
           {
            "marker": {
             "colorbar": {
              "outlinewidth": 0,
              "ticks": ""
             }
            },
            "type": "scattergeo"
           }
          ],
          "scattergl": [
           {
            "marker": {
             "colorbar": {
              "outlinewidth": 0,
              "ticks": ""
             }
            },
            "type": "scattergl"
           }
          ],
          "scattermapbox": [
           {
            "marker": {
             "colorbar": {
              "outlinewidth": 0,
              "ticks": ""
             }
            },
            "type": "scattermapbox"
           }
          ],
          "scatterpolar": [
           {
            "marker": {
             "colorbar": {
              "outlinewidth": 0,
              "ticks": ""
             }
            },
            "type": "scatterpolar"
           }
          ],
          "scatterpolargl": [
           {
            "marker": {
             "colorbar": {
              "outlinewidth": 0,
              "ticks": ""
             }
            },
            "type": "scatterpolargl"
           }
          ],
          "scatterternary": [
           {
            "marker": {
             "colorbar": {
              "outlinewidth": 0,
              "ticks": ""
             }
            },
            "type": "scatterternary"
           }
          ],
          "surface": [
           {
            "colorbar": {
             "outlinewidth": 0,
             "ticks": ""
            },
            "colorscale": [
             [
              0,
              "#0d0887"
             ],
             [
              0.1111111111111111,
              "#46039f"
             ],
             [
              0.2222222222222222,
              "#7201a8"
             ],
             [
              0.3333333333333333,
              "#9c179e"
             ],
             [
              0.4444444444444444,
              "#bd3786"
             ],
             [
              0.5555555555555556,
              "#d8576b"
             ],
             [
              0.6666666666666666,
              "#ed7953"
             ],
             [
              0.7777777777777778,
              "#fb9f3a"
             ],
             [
              0.8888888888888888,
              "#fdca26"
             ],
             [
              1,
              "#f0f921"
             ]
            ],
            "type": "surface"
           }
          ],
          "table": [
           {
            "cells": {
             "fill": {
              "color": "#EBF0F8"
             },
             "line": {
              "color": "white"
             }
            },
            "header": {
             "fill": {
              "color": "#C8D4E3"
             },
             "line": {
              "color": "white"
             }
            },
            "type": "table"
           }
          ]
         },
         "layout": {
          "annotationdefaults": {
           "arrowcolor": "#2a3f5f",
           "arrowhead": 0,
           "arrowwidth": 1
          },
          "coloraxis": {
           "colorbar": {
            "outlinewidth": 0,
            "ticks": ""
           }
          },
          "colorscale": {
           "diverging": [
            [
             0,
             "#8e0152"
            ],
            [
             0.1,
             "#c51b7d"
            ],
            [
             0.2,
             "#de77ae"
            ],
            [
             0.3,
             "#f1b6da"
            ],
            [
             0.4,
             "#fde0ef"
            ],
            [
             0.5,
             "#f7f7f7"
            ],
            [
             0.6,
             "#e6f5d0"
            ],
            [
             0.7,
             "#b8e186"
            ],
            [
             0.8,
             "#7fbc41"
            ],
            [
             0.9,
             "#4d9221"
            ],
            [
             1,
             "#276419"
            ]
           ],
           "sequential": [
            [
             0,
             "#0d0887"
            ],
            [
             0.1111111111111111,
             "#46039f"
            ],
            [
             0.2222222222222222,
             "#7201a8"
            ],
            [
             0.3333333333333333,
             "#9c179e"
            ],
            [
             0.4444444444444444,
             "#bd3786"
            ],
            [
             0.5555555555555556,
             "#d8576b"
            ],
            [
             0.6666666666666666,
             "#ed7953"
            ],
            [
             0.7777777777777778,
             "#fb9f3a"
            ],
            [
             0.8888888888888888,
             "#fdca26"
            ],
            [
             1,
             "#f0f921"
            ]
           ],
           "sequentialminus": [
            [
             0,
             "#0d0887"
            ],
            [
             0.1111111111111111,
             "#46039f"
            ],
            [
             0.2222222222222222,
             "#7201a8"
            ],
            [
             0.3333333333333333,
             "#9c179e"
            ],
            [
             0.4444444444444444,
             "#bd3786"
            ],
            [
             0.5555555555555556,
             "#d8576b"
            ],
            [
             0.6666666666666666,
             "#ed7953"
            ],
            [
             0.7777777777777778,
             "#fb9f3a"
            ],
            [
             0.8888888888888888,
             "#fdca26"
            ],
            [
             1,
             "#f0f921"
            ]
           ]
          },
          "colorway": [
           "#636efa",
           "#EF553B",
           "#00cc96",
           "#ab63fa",
           "#FFA15A",
           "#19d3f3",
           "#FF6692",
           "#B6E880",
           "#FF97FF",
           "#FECB52"
          ],
          "font": {
           "color": "#2a3f5f"
          },
          "geo": {
           "bgcolor": "white",
           "lakecolor": "white",
           "landcolor": "#E5ECF6",
           "showlakes": true,
           "showland": true,
           "subunitcolor": "white"
          },
          "hoverlabel": {
           "align": "left"
          },
          "hovermode": "closest",
          "mapbox": {
           "style": "light"
          },
          "paper_bgcolor": "white",
          "plot_bgcolor": "#E5ECF6",
          "polar": {
           "angularaxis": {
            "gridcolor": "white",
            "linecolor": "white",
            "ticks": ""
           },
           "bgcolor": "#E5ECF6",
           "radialaxis": {
            "gridcolor": "white",
            "linecolor": "white",
            "ticks": ""
           }
          },
          "scene": {
           "xaxis": {
            "backgroundcolor": "#E5ECF6",
            "gridcolor": "white",
            "gridwidth": 2,
            "linecolor": "white",
            "showbackground": true,
            "ticks": "",
            "zerolinecolor": "white"
           },
           "yaxis": {
            "backgroundcolor": "#E5ECF6",
            "gridcolor": "white",
            "gridwidth": 2,
            "linecolor": "white",
            "showbackground": true,
            "ticks": "",
            "zerolinecolor": "white"
           },
           "zaxis": {
            "backgroundcolor": "#E5ECF6",
            "gridcolor": "white",
            "gridwidth": 2,
            "linecolor": "white",
            "showbackground": true,
            "ticks": "",
            "zerolinecolor": "white"
           }
          },
          "shapedefaults": {
           "line": {
            "color": "#2a3f5f"
           }
          },
          "ternary": {
           "aaxis": {
            "gridcolor": "white",
            "linecolor": "white",
            "ticks": ""
           },
           "baxis": {
            "gridcolor": "white",
            "linecolor": "white",
            "ticks": ""
           },
           "bgcolor": "#E5ECF6",
           "caxis": {
            "gridcolor": "white",
            "linecolor": "white",
            "ticks": ""
           }
          },
          "title": {
           "x": 0.05
          },
          "xaxis": {
           "automargin": true,
           "gridcolor": "white",
           "linecolor": "white",
           "ticks": "",
           "title": {
            "standoff": 15
           },
           "zerolinecolor": "white",
           "zerolinewidth": 2
          },
          "yaxis": {
           "automargin": true,
           "gridcolor": "white",
           "linecolor": "white",
           "ticks": "",
           "title": {
            "standoff": 15
           },
           "zerolinecolor": "white",
           "zerolinewidth": 2
          }
         }
        },
        "title": {
         "x": 0.5,
         "xanchor": "center",
         "y": 0.9,
         "yanchor": "top"
        }
       }
      }
     },
     "metadata": {}
    }
   ],
   "metadata": {}
  },
  {
   "cell_type": "code",
   "execution_count": null,
   "source": [],
   "outputs": [],
   "metadata": {}
  }
 ],
 "metadata": {
  "orig_nbformat": 4,
  "language_info": {
   "name": "python"
  }
 },
 "nbformat": 4,
 "nbformat_minor": 2
}