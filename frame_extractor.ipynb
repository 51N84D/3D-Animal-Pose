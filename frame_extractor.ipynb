{
 "cells": [
  {
   "cell_type": "code",
   "execution_count": 44,
   "id": "sacred-advance",
   "metadata": {},
   "outputs": [],
   "source": [
    "from tqdm import tqdm\n",
    "import cv2\n",
    "import multiprocessing as mp\n",
    "import numpy as np\n",
    "import os\n",
    "from pathlib import Path\n",
    "import pandas as pd\n",
    "from typing import Optional"
   ]
  },
  {
   "cell_type": "code",
   "execution_count": 114,
   "id": "olympic-senate",
   "metadata": {},
   "outputs": [],
   "source": [
    "from utils.utils_IO import combine_images, sorted_alphanumeric # write_video"
   ]
  },
  {
   "cell_type": "code",
   "execution_count": 115,
   "id": "quality-turkey",
   "metadata": {},
   "outputs": [],
   "source": [
    "# TODO: should be made a util. consider wrapping all funcs in a class\n",
    "def extract_frames(indices, video_path, exact=True):\n",
    "    assert(os.path.isfile(video_path))\n",
    "    cap = cv2.VideoCapture(video_path)\n",
    "    totalFrames = cap.get(cv2.CAP_PROP_FRAME_COUNT)\n",
    "    frames = []\n",
    "    if exact:\n",
    "        indices_dict = dict((idx, 0) for idx in indices)\n",
    "        curr_idx = 0\n",
    "        while len(indices_dict.keys()) > 0 and curr_idx < totalFrames:\n",
    "            ret, frame = cap.read()\n",
    "            if curr_idx in indices_dict:\n",
    "                frames.append(frame)\n",
    "                del indices_dict[curr_idx]\n",
    "            curr_idx += 1\n",
    "\n",
    "    else:\n",
    "        for frame_idx in indices:\n",
    "            # get total number of frames\n",
    "            # check for valid frame number\n",
    "            if frame_idx >= 0 & frame_idx <= totalFrames:\n",
    "                # set frame position\n",
    "                cap.set(cv2.CAP_PROP_POS_FRAMES, frame_idx)\n",
    "                ret, frame = cap.read()\n",
    "                frames.append(frame)\n",
    "    return frames"
   ]
  },
  {
   "cell_type": "code",
   "execution_count": 195,
   "id": "demographic-rocket",
   "metadata": {},
   "outputs": [],
   "source": [
    "def write_video(\n",
    "    frames: Optional[list] = None, \n",
    "    image_dir: Optional[str] = None, \n",
    "    out_file: Optional[str] = \"./out.mp4\", \n",
    "    fps: Optional[int] = 5, \n",
    "    add_frame_num: Optional[bool] = False, \n",
    "    added_text: Optional[list] = None,\n",
    "):\n",
    "    img_array = []\n",
    "\n",
    "    if frames is not None:\n",
    "        im_list = frames\n",
    "        for img in im_list:\n",
    "            height, width, layers = img.shape\n",
    "            size = (width, height)\n",
    "            img_array.append(img)\n",
    "\n",
    "    if image_dir is not None:\n",
    "        im_list = os.listdir(image_dir)\n",
    "        im_list = sorted_alphanumeric(im_list)\n",
    "\n",
    "        if \".DS_Store\" in im_list:\n",
    "            im_list.remove(\".DS_Store\")\n",
    "\n",
    "        for filename in im_list:\n",
    "            img = cv2.imread(os.path.join(image_dir, filename))\n",
    "            height, width, layers = img.shape\n",
    "            size = (width, height)\n",
    "            img_array.append(img)\n",
    "\n",
    "    out = cv2.VideoWriter(\n",
    "        filename=out_file,\n",
    "        fourcc=cv2.VideoWriter_fourcc(\"m\", \"p\", \"4\", \"v\"),\n",
    "        fps=fps,\n",
    "        frameSize=size,\n",
    "    )\n",
    "\n",
    "    cv2.VideoWriter()\n",
    "    font = cv2.FONT_HERSHEY_SIMPLEX\n",
    "    \n",
    "    if added_text is not None:\n",
    "        assert(len(added_text) == len(img_array))\n",
    "\n",
    "    for i in range(len(img_array)):\n",
    "        if add_frame_num:\n",
    "            cv2.putText(\n",
    "                img_array[i], f\"{i}\", (10, 30), font, 1, (0, 0, 255), 1, cv2.LINE_AA\n",
    "            )\n",
    "        if added_text is not None:\n",
    "            cv2.putText(\n",
    "                img_array[i], added_text[i], (0,round(img_array[i].shape[0]*.9)), font, .5, (255, 255, 255))\n",
    "        out.write(img_array[i])\n",
    "    out.release()"
   ]
  },
  {
   "cell_type": "code",
   "execution_count": 326,
   "id": "dirty-limitation",
   "metadata": {},
   "outputs": [],
   "source": [
    "general_video_path = '/Volumes/sawtell-locker/C1/free/vids'\n",
    "assert(os.path.isdir(general_video_path))"
   ]
  },
  {
   "cell_type": "code",
   "execution_count": 327,
   "id": "green-router",
   "metadata": {},
   "outputs": [],
   "source": [
    "# csv_file = '/Users/danbiderman/Dropbox/Columbia/1.Dan/Research/Paninski/Video_Datasets/Sawtell-data/C1_prey_capture.csv'\n",
    "# assert(os.path.isfile(csv_file))\n",
    "csv_path = '/Volumes/sawtell-locker/C1/free/C1_prey_capture_events.csv'\n",
    "assert(os.path.isfile(csv_path))"
   ]
  },
  {
   "cell_type": "code",
   "execution_count": 328,
   "id": "south-atlantic",
   "metadata": {},
   "outputs": [],
   "source": [
    "df = pd.read_csv(csv_path, header=0)"
   ]
  },
  {
   "cell_type": "code",
   "execution_count": 329,
   "id": "heavy-chancellor",
   "metadata": {},
   "outputs": [
    {
     "data": {
      "text/html": [
       "<div>\n",
       "<style scoped>\n",
       "    .dataframe tbody tr th:only-of-type {\n",
       "        vertical-align: middle;\n",
       "    }\n",
       "\n",
       "    .dataframe tbody tr th {\n",
       "        vertical-align: top;\n",
       "    }\n",
       "\n",
       "    .dataframe thead th {\n",
       "        text-align: right;\n",
       "    }\n",
       "</style>\n",
       "<table border=\"1\" class=\"dataframe\">\n",
       "  <thead>\n",
       "    <tr style=\"text-align: right;\">\n",
       "      <th></th>\n",
       "      <th>Path</th>\n",
       "      <th>Date</th>\n",
       "      <th>Fish</th>\n",
       "      <th>Reproj Vid Frame START</th>\n",
       "      <th>Reproj Vid Frame STOP</th>\n",
       "      <th>View(s)</th>\n",
       "      <th>Error</th>\n",
       "      <th>User</th>\n",
       "      <th>Notes (capture not properly tracked, false positives, etc.)</th>\n",
       "      <th>Original Vid Frame START</th>\n",
       "      <th>Original Vid Frame STOP</th>\n",
       "    </tr>\n",
       "  </thead>\n",
       "  <tbody>\n",
       "    <tr>\n",
       "      <th>0</th>\n",
       "      <td>Z:\\C1\\free\\3d_reconstruction\\V2\\</td>\n",
       "      <td>20201218</td>\n",
       "      <td>Neil</td>\n",
       "      <td>115.0</td>\n",
       "      <td>128.0</td>\n",
       "      <td>NaN</td>\n",
       "      <td>NaN</td>\n",
       "      <td>DN</td>\n",
       "      <td>NaN</td>\n",
       "      <td>1150</td>\n",
       "      <td>1280</td>\n",
       "    </tr>\n",
       "    <tr>\n",
       "      <th>1</th>\n",
       "      <td>Z:\\C1\\free\\3d_reconstruction\\V2\\</td>\n",
       "      <td>20201218</td>\n",
       "      <td>Neil</td>\n",
       "      <td>555.0</td>\n",
       "      <td>569.0</td>\n",
       "      <td>NaN</td>\n",
       "      <td>NaN</td>\n",
       "      <td>DN</td>\n",
       "      <td>NaN</td>\n",
       "      <td>5550</td>\n",
       "      <td>5690</td>\n",
       "    </tr>\n",
       "    <tr>\n",
       "      <th>2</th>\n",
       "      <td>Z:\\C1\\free\\3d_reconstruction\\V2\\</td>\n",
       "      <td>20201218</td>\n",
       "      <td>Neil</td>\n",
       "      <td>1795.0</td>\n",
       "      <td>1818.0</td>\n",
       "      <td>NaN</td>\n",
       "      <td>NaN</td>\n",
       "      <td>DN</td>\n",
       "      <td>NaN</td>\n",
       "      <td>17950</td>\n",
       "      <td>18180</td>\n",
       "    </tr>\n",
       "    <tr>\n",
       "      <th>3</th>\n",
       "      <td>Z:\\C1\\free\\3d_reconstruction\\V2\\</td>\n",
       "      <td>20201218</td>\n",
       "      <td>Neil</td>\n",
       "      <td>2560.0</td>\n",
       "      <td>2568.0</td>\n",
       "      <td>NaN</td>\n",
       "      <td>NaN</td>\n",
       "      <td>DN</td>\n",
       "      <td>NaN</td>\n",
       "      <td>25600</td>\n",
       "      <td>25680</td>\n",
       "    </tr>\n",
       "    <tr>\n",
       "      <th>4</th>\n",
       "      <td>Z:\\C1\\free\\3d_reconstruction\\V2\\</td>\n",
       "      <td>20201218</td>\n",
       "      <td>Neil</td>\n",
       "      <td>2800.0</td>\n",
       "      <td>2819.0</td>\n",
       "      <td>NaN</td>\n",
       "      <td>NaN</td>\n",
       "      <td>DN</td>\n",
       "      <td>NaN</td>\n",
       "      <td>28000</td>\n",
       "      <td>28190</td>\n",
       "    </tr>\n",
       "  </tbody>\n",
       "</table>\n",
       "</div>"
      ],
      "text/plain": [
       "                               Path      Date  Fish  Reproj Vid Frame START  \\\n",
       "0  Z:\\C1\\free\\3d_reconstruction\\V2\\  20201218  Neil                   115.0   \n",
       "1  Z:\\C1\\free\\3d_reconstruction\\V2\\  20201218  Neil                   555.0   \n",
       "2  Z:\\C1\\free\\3d_reconstruction\\V2\\  20201218  Neil                  1795.0   \n",
       "3  Z:\\C1\\free\\3d_reconstruction\\V2\\  20201218  Neil                  2560.0   \n",
       "4  Z:\\C1\\free\\3d_reconstruction\\V2\\  20201218  Neil                  2800.0   \n",
       "\n",
       "   Reproj Vid Frame STOP  View(s)  Error User  \\\n",
       "0                  128.0      NaN    NaN   DN   \n",
       "1                  569.0      NaN    NaN   DN   \n",
       "2                 1818.0      NaN    NaN   DN   \n",
       "3                 2568.0      NaN    NaN   DN   \n",
       "4                 2819.0      NaN    NaN   DN   \n",
       "\n",
       "  Notes (capture not properly tracked, false positives, etc.)  \\\n",
       "0                                                NaN            \n",
       "1                                                NaN            \n",
       "2                                                NaN            \n",
       "3                                                NaN            \n",
       "4                                                NaN            \n",
       "\n",
       "   Original Vid Frame START  Original Vid Frame STOP  \n",
       "0                      1150                     1280  \n",
       "1                      5550                     5690  \n",
       "2                     17950                    18180  \n",
       "3                     25600                    25680  \n",
       "4                     28000                    28190  "
      ]
     },
     "execution_count": 329,
     "metadata": {},
     "output_type": "execute_result"
    }
   ],
   "source": [
    "df.head()"
   ]
  },
  {
   "cell_type": "code",
   "execution_count": 331,
   "id": "increasing-enterprise",
   "metadata": {},
   "outputs": [],
   "source": [
    "def get_vid_folder_name(general_video_path: str, date: str, name: str) -> str:\n",
    "    '''return a path for videos folder from names '''\n",
    "    full_path = os.path.join(general_video_path , date + '_' + name)\n",
    "    assert(os.path.isdir(full_path))\n",
    "    return full_path"
   ]
  },
  {
   "cell_type": "code",
   "execution_count": 57,
   "id": "oriental-brooklyn",
   "metadata": {},
   "outputs": [],
   "source": [
    "DN_data = df.loc[df['User'] == 'DN']"
   ]
  },
  {
   "cell_type": "code",
   "execution_count": 59,
   "id": "national-vietnamese",
   "metadata": {},
   "outputs": [
    {
     "data": {
      "text/plain": [
       "(75, 11)"
      ]
     },
     "execution_count": 59,
     "metadata": {},
     "output_type": "execute_result"
    }
   ],
   "source": [
    "DN_data.shape"
   ]
  },
  {
   "cell_type": "code",
   "execution_count": 64,
   "id": "understanding-alpha",
   "metadata": {},
   "outputs": [
    {
     "name": "stdout",
     "output_type": "stream",
     "text": [
      "0     0     20201218\\n1     20201218\\n2     20201218...\n",
      "1     0     20201218\\n1     20201218\\n2     20201218...\n",
      "2     0     20201218\\n1     20201218\\n2     20201218...\n",
      "3     0     20201218\\n1     20201218\\n2     20201218...\n",
      "4     0     20201218\\n1     20201218\\n2     20201218...\n",
      "                            ...                        \n",
      "70    0     20201218\\n1     20201218\\n2     20201218...\n",
      "71    0     20201218\\n1     20201218\\n2     20201218...\n",
      "72    0     20201218\\n1     20201218\\n2     20201218...\n",
      "73    0     20201218\\n1     20201218\\n2     20201218...\n",
      "74    0     20201218\\n1     20201218\\n2     20201218...\n",
      "Name: Fish, Length: 75, dtype: object\n"
     ]
    }
   ],
   "source": [
    "merged = str(DN_data['Date']) + DN_data['Fish']\n",
    "print(merged)\n",
    "#print(DN_data['Date'].unique())\n",
    "#print(DN_data['Fish'].unique())"
   ]
  },
  {
   "cell_type": "code",
   "execution_count": 227,
   "id": "thirty-headquarters",
   "metadata": {},
   "outputs": [],
   "source": [
    "list_concat = []\n",
    "for i in range(DN_data.shape[0]): # loop over rows and merge date and fish strings\n",
    "    #list_concat.append(str(DN_data['Date'][i]) + '_' + DN_data['Fish'][i])\n",
    "    list_concat.append(get_vid_folder_name(general_video_path, \n",
    "                            str(DN_data[\"Date\"][i]), \n",
    "                                DN_data[\"Fish\"][i]))\n",
    "unique_list = list(set(list_concat))"
   ]
  },
  {
   "cell_type": "code",
   "execution_count": 228,
   "id": "efficient-cigarette",
   "metadata": {},
   "outputs": [
    {
     "name": "stdout",
     "output_type": "stream",
     "text": [
      "['/Volumes/sawtell-locker/C1/free/vids/20201218_Neil', '/Volumes/sawtell-locker/C1/free/vids/20201120_Greg', '/Volumes/sawtell-locker/C1/free/vids/20201114_Greg', '/Volumes/sawtell-locker/C1/free/vids/20201224_Neil']\n"
     ]
    }
   ],
   "source": [
    "print(unique_list)\n",
    "# want: check if unique. if so, join all the frames from that video as one video."
   ]
  },
  {
   "cell_type": "code",
   "execution_count": 305,
   "id": "suspected-parks",
   "metadata": {},
   "outputs": [
    {
     "data": {
      "text/plain": [
       "['Neil PRE C1 lesion',\n",
       " 'Greg POST C1 sham',\n",
       " 'Greg PRE C1 sham',\n",
       " 'Neil POST C1 lesion']"
      ]
     },
     "execution_count": 305,
     "metadata": {},
     "output_type": "execute_result"
    }
   ],
   "source": [
    "cond_list = ['Neil PRE C1 lesion', 'Greg POST C1 sham', 'Greg PRE C1 sham', 'Neil POST C1 lesion' ]\n",
    "cond_list"
   ]
  },
  {
   "cell_type": "markdown",
   "id": "dramatic-optimization",
   "metadata": {},
   "source": [
    "take all frames from a given session and concat them into one long video\n",
    "* loop over the unique video paths\n",
    "* get the desired frames\n",
    "* make a video and save in a separate folder name -- do not over write"
   ]
  },
  {
   "cell_type": "code",
   "execution_count": 319,
   "id": "acute-subdivision",
   "metadata": {},
   "outputs": [],
   "source": [
    "# create a list of lists\n",
    "frame_nums = list(range(len(unique_list)))\n",
    "for i in range(len(frame_nums)):\n",
    "    frame_nums[i] = []"
   ]
  },
  {
   "cell_type": "code",
   "execution_count": 320,
   "id": "computational-belle",
   "metadata": {},
   "outputs": [],
   "source": [
    "frame_pad = 200\n",
    "for j in range(DN_data.shape[0]):\n",
    "    folder_name = get_vid_folder_name(general_video_path, \n",
    "                            str(DN_data[\"Date\"][j]), \n",
    "                                DN_data[\"Fish\"][j])\n",
    "    video_path = os.path.join(folder_name,\n",
    "                              'concatenated_tracking.avi')\n",
    "    curr_sess = folder_name.split('/')[-1]\n",
    "    ind = np.where(np.asarray([ud in [folder_name] for ud in unique_dict]))[0][0]\n",
    "    frame_nums[ind].append(np.arange(DN_data[\"Original Vid Frame START\"][j]-frame_pad, \n",
    "                       DN_data[\"Original Vid Frame STOP\"][j]+frame_pad))"
   ]
  },
  {
   "cell_type": "code",
   "execution_count": 321,
   "id": "raised-wholesale",
   "metadata": {},
   "outputs": [],
   "source": [
    "for i in range(len(frame_nums)):\n",
    "    frame_nums[i] = np.concatenate(frame_nums[i])"
   ]
  },
  {
   "cell_type": "code",
   "execution_count": 309,
   "id": "aerial-fancy",
   "metadata": {},
   "outputs": [
    {
     "data": {
      "text/plain": [
       "8"
      ]
     },
     "execution_count": 309,
     "metadata": {},
     "output_type": "execute_result"
    }
   ],
   "source": [
    "os.cpu_count()"
   ]
  },
  {
   "cell_type": "code",
   "execution_count": 322,
   "id": "united-irrigation",
   "metadata": {},
   "outputs": [
    {
     "name": "stdout",
     "output_type": "stream",
     "text": [
      "0 /Volumes/sawtell-locker/C1/free/vids/20201218_Neil\n",
      "1 /Volumes/sawtell-locker/C1/free/vids/20201120_Greg\n",
      "2 /Volumes/sawtell-locker/C1/free/vids/20201114_Greg\n",
      "3 /Volumes/sawtell-locker/C1/free/vids/20201224_Neil\n"
     ]
    }
   ],
   "source": [
    "for i, path in enumerate(unique_list):\n",
    "    print(i, path)\n",
    "    video_path = os.path.join(path,'concatenated_tracking.avi' ) # change to concatenated if don't want the tracking\n",
    "    frames = extract_frames(indices = frame_nums[i], video_path=video_path, exact=True)\n",
    "    added_text = list(np.repeat(cond_list[i], len(frames)))\n",
    "    write_video(\n",
    "        frames=frames,\n",
    "        out_file= os.path.join(path, 'prey_capture_highlights.mov'),\n",
    "        fps=100, # original is 100 fps frame rate\n",
    "        add_frame_num=False,\n",
    "        added_text=added_text)"
   ]
  },
  {
   "cell_type": "markdown",
   "id": "married-intent",
   "metadata": {},
   "source": [
    "## concat two vids\n",
    "first create a file with a list of videos:\n",
    "`(echo file '/Volumes/sawtell-locker/C1/free/vids/20201218_Neil/prey_capture_highlights.mov' & echo file '/Volumes/sawtell-locker/C1/free/vids/20201224_Neil/prey_capture_highlights.mov' )>list.txt`\n",
    "\n",
    "then concat and save\n",
    "\n",
    "`ffmpeg -safe 0 -f concat -i list.txt -c copy output.mp4`"
   ]
  },
  {
   "cell_type": "code",
   "execution_count": 303,
   "id": "correct-subdivision",
   "metadata": {},
   "outputs": [],
   "source": [
    "# # that works\n",
    "# os.system('(echo file \\'/Volumes/sawtell-locker/C1/free/vids/20201218_Neil/prey_capture_highlights.mov\\' & echo file \\'/Volumes/sawtell-locker/C1/free/vids/20201224_Neil/prey_capture_highlights.mov\\' )>list.txt')\n",
    "# status = os.system('/Users/danbiderman/miniconda3/envs/3d-pose/bin/ffmpeg -safe 0 -f concat -i list.txt -c copy {}_pre_post.mp4'.format('Neil'))\n",
    "# print(status)"
   ]
  },
  {
   "cell_type": "code",
   "execution_count": 300,
   "id": "nasty-piano",
   "metadata": {},
   "outputs": [],
   "source": [
    "def write_file_with_paths(paths: list, txt_filename: str):\n",
    "    f = open(txt_filename,\"w+\")\n",
    "    for p in paths:\n",
    "         f.write('file ' + \"%s\\r\\n\" % p)\n",
    "    f.close() "
   ]
  },
  {
   "cell_type": "code",
   "execution_count": 299,
   "id": "fundamental-fault",
   "metadata": {},
   "outputs": [],
   "source": [
    "def concat_videos(ffmpeg_path: str, txt_filename: str, out_file_name: str = 'concat', out_format: str = '.mov'):\n",
    "    command = ffmpeg_path + ' ' + '-safe 0 -f concat -i' + ' ' + txt_filename + ' ' + '-c copy' + ' ' + out_file_name + out_format\n",
    "    status = os.system(command)\n",
    "    if status==0:\n",
    "        print('Concat video saved as' + ' ' + out_file_name + out_format)\n",
    "    else:\n",
    "        print('Concat failed, error number %i. \\n Check that the .txt file exists and that there is no existing video called %s.' % (status, out_file_name+out_format))\n",
    "    return command, status"
   ]
  },
  {
   "cell_type": "code",
   "execution_count": 301,
   "id": "streaming-volleyball",
   "metadata": {},
   "outputs": [],
   "source": [
    "def make_concat_video(paths: list, \n",
    "                      txt_filename: str, \n",
    "                      ffmpeg_path: Optional[str] = '/Users/danbiderman/miniconda3/envs/3d-pose/bin/ffmpeg', \n",
    "                      out_file_name: Optional[str] = 'concat', \n",
    "                      out_format: Optional[str] = '.mov'):\n",
    "    write_file_with_paths(paths, txt_filename)\n",
    "    assert(os.path.isfile(txt_filename))\n",
    "    command, status = concat_videos(ffmpeg_path, txt_filename, out_file_name, out_format)\n",
    "    return command, status"
   ]
  },
  {
   "cell_type": "code",
   "execution_count": 323,
   "id": "downtown-annual",
   "metadata": {},
   "outputs": [],
   "source": [
    "paths_Neil = ['\\'/Volumes/sawtell-locker/C1/free/vids/20201218_Neil/prey_capture_highlights.mov\\'',\n",
    "        '\\'/Volumes/sawtell-locker/C1/free/vids/20201224_Neil/prey_capture_highlights.mov\\'']\n",
    "paths_Greg = ['\\'/Volumes/sawtell-locker/C1/free/vids/20201114_Greg/prey_capture_highlights.mov\\'',\n",
    "        '\\'/Volumes/sawtell-locker/C1/free/vids/20201120_Greg/prey_capture_highlights.mov\\'']"
   ]
  },
  {
   "cell_type": "code",
   "execution_count": 325,
   "id": "dietary-nursery",
   "metadata": {},
   "outputs": [
    {
     "name": "stdout",
     "output_type": "stream",
     "text": [
      "Concat video saved as Neil_pre_post.mov\n",
      "Concat video saved as Greg_pre_post.mov\n"
     ]
    }
   ],
   "source": [
    "command, status = make_concat_video(paths=paths_Neil, \n",
    "                                    txt_filename='list.txt', \n",
    "                                    out_file_name= '{}_pre_post'.format('Neil'),\n",
    "                                   out_format = '.mov')\n",
    "command, status = make_concat_video(paths=paths_Greg, \n",
    "                                    txt_filename='list.txt', \n",
    "                                    out_file_name= '{}_pre_post'.format('Greg'),\n",
    "                                   out_format = '.mov')"
   ]
  },
  {
   "cell_type": "code",
   "execution_count": 291,
   "id": "professional-origin",
   "metadata": {},
   "outputs": [
    {
     "name": "stdout",
     "output_type": "stream",
     "text": [
      "Concat failed, error number 256. \n",
      " Check that the .txt file exists and that there is no existing video called Neil_pre_post.mp4.\n"
     ]
    }
   ],
   "source": [
    "command, status = concat_videos('/Users/danbiderman/miniconda3/envs/3d-pose/bin/ffmpeg', \n",
    "              'list.txt',\n",
    "             '{}_pre_post'.format('Neil'),\n",
    "             '.mp4')\n",
    "#command == '/Users/danbiderman/miniconda3/envs/3d-pose/bin/ffmpeg -safe 0 -f concat -i list.txt -c copy {}_pre_post.mp4'.format('Neil')"
   ]
  },
  {
   "cell_type": "code",
   "execution_count": null,
   "id": "juvenile-sheffield",
   "metadata": {},
   "outputs": [],
   "source": [
    "/Users/danbiderman/miniconda3/envs/3d-pose/bin/ffmpeg -safe 0 -f concat -i list.txt -c copy Neil_pre_post.mp4\n"
   ]
  }
 ],
 "metadata": {
  "kernelspec": {
   "display_name": "3d-pose",
   "language": "python",
   "name": "3d-pose"
  },
  "language_info": {
   "codemirror_mode": {
    "name": "ipython",
    "version": 3
   },
   "file_extension": ".py",
   "mimetype": "text/x-python",
   "name": "python",
   "nbconvert_exporter": "python",
   "pygments_lexer": "ipython3",
   "version": "3.9.2"
  }
 },
 "nbformat": 4,
 "nbformat_minor": 5
}
