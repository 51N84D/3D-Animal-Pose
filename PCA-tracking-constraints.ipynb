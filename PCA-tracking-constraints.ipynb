{
 "cells": [
  {
   "cell_type": "code",
   "execution_count": 93,
   "metadata": {},
   "outputs": [],
   "source": [
    "import numpy as np\n",
    "import matplotlib.pyplot as plt\n",
    "import pandas as pd\n",
    "from pathlib import Path\n",
    "import os"
   ]
  },
  {
   "cell_type": "code",
   "execution_count": 94,
   "metadata": {},
   "outputs": [
    {
     "data": {
      "text/plain": [
       "'/Users/danbiderman/Dropbox/Columbia/1.Dan/Research/Paninski/3D-Animal-Pose'"
      ]
     },
     "execution_count": 94,
     "metadata": {},
     "output_type": "execute_result"
    }
   ],
   "source": [
    "os.getcwd()"
   ]
  },
  {
   "cell_type": "markdown",
   "metadata": {},
   "source": [
    "Load ground-truth labels, which you'll have to preprocess using the designated `get_data()` module, including offsetting (not sure). \n",
    "represent a given frame as a matrix `(num_views * 2, num_bodyparts* num_frames)` while we wish to represent it as `(3, num_bodyparts)` as a 3D world. "
   ]
  },
  {
   "cell_type": "code",
   "execution_count": 96,
   "metadata": {},
   "outputs": [],
   "source": [
    "import numpy as np\n",
    "import h5py\n",
    "hf = h5py.File('../Video_Datasets/Sawtell-data/tank_dataset_11.h5', \n",
    "               'r')"
   ]
  },
  {
   "cell_type": "code",
   "execution_count": 98,
   "metadata": {},
   "outputs": [
    {
     "name": "stdout",
     "output_type": "stream",
     "text": [
      "<KeysViewHDF5 ['annotated', 'annotations', 'frame_number', 'images', 'skeleton', 'skeleton_names', 'video_name']>\n"
     ]
    }
   ],
   "source": [
    "print(hf.keys())"
   ]
  },
  {
   "cell_type": "code",
   "execution_count": 102,
   "metadata": {},
   "outputs": [
    {
     "data": {
      "text/plain": [
       "<HDF5 dataset \"images\": shape (263, 384, 512, 1), type \"|u1\">"
      ]
     },
     "execution_count": 102,
     "metadata": {},
     "output_type": "execute_result"
    }
   ],
   "source": [
    "images = hf['images']\n",
    "images"
   ]
  },
  {
   "cell_type": "code",
   "execution_count": 133,
   "metadata": {},
   "outputs": [
    {
     "data": {
      "text/plain": [
       "(263, 108, 2)"
      ]
     },
     "execution_count": 133,
     "metadata": {},
     "output_type": "execute_result"
    }
   ],
   "source": [
    "labels = hf[\"annotations\"] # can add np.array\n",
    "labels.shape"
   ]
  },
  {
   "cell_type": "code",
   "execution_count": 132,
   "metadata": {},
   "outputs": [],
   "source": [
    "# decode binary to ASCII\n",
    "skeleton_name_list = [i.decode('UTF-8') for i in list(hf[\"skeleton_names\"])]\n",
    "#skeleton_name_list"
   ]
  },
  {
   "cell_type": "code",
   "execution_count": null,
   "metadata": {},
   "outputs": [],
   "source": [
    "desired_bps = ['head', 'chin_base','chin_1_4','chin_mid', \\ \n",
    "               'chin_3_4','chin_end', 'mid','tail', 'caudal_d', 'caudal_v']"
   ]
  },
  {
   "cell_type": "code",
   "execution_count": null,
   "metadata": {},
   "outputs": [],
   "source": [
    "bp_to_keep = [\"chin\", \"chin1\", \"chin3\", \"mid\", \"head\", \"caudal\", \"tail\"]\n",
    "view_names = [\"top\", \"main\", \"right\"]"
   ]
  },
  {
   "cell_type": "code",
   "execution_count": 485,
   "metadata": {},
   "outputs": [],
   "source": [
    "# pts_array = np.concatenate((labels[:,:,0], labels[:,:,1]), axis=0)"
   ]
  },
  {
   "cell_type": "code",
   "execution_count": 486,
   "metadata": {},
   "outputs": [],
   "source": [
    "pts_array = np.empty((labels.shape[0], int(labels.shape[1] / len(view_names)), 2))\n",
    "x_points = []\n",
    "y_points = []\n",
    "skeleton_names = []\n",
    "for i, name in enumerate(skeleton_name_list):\n",
    "    # return a length-108 list whose entries are 1D np.arrays\n",
    "    x_points.append(labels[:, i, 0])\n",
    "    y_points.append(labels[:, i, 1])\n",
    "    skeleton_names.append(name[:-2])\n",
    "    \n",
    "x_points = np.asarray(x_points).transpose()[:, :, np.newaxis]\n",
    "y_points = np.asarray(y_points).transpose()[:, :, np.newaxis]\n",
    "pts_array = np.concatenate((x_points, y_points), axis=-1)"
   ]
  },
  {
   "cell_type": "code",
   "execution_count": 487,
   "metadata": {},
   "outputs": [
    {
     "name": "stdout",
     "output_type": "stream",
     "text": [
      "['head_main', 'chin_base_main', 'chin1_4_main', 'chin_half_main', 'chin3_4_main', 'chin_tip_main', 'mid_main', 'fork_main', 'stripeA_main', 'stripeP_main', 'tail_neck_main', 'dorsal_main', 'anal_main', 'caudal_d_main', 'caudal_v_main', 'pectoral_L_main', 'pectoral_R_main', 'pelvic_L_main', 'pelvic_R_main', 'head_top', 'chin_base_top', 'chin1_4_top', 'chin_half_top', 'chin3_4_top', 'chin_tip_top', 'mid_top', 'fork_top', 'stripeA_top', 'stripeP_top', 'tail_neck_top', 'dorsal_top', 'anal_top', 'caudal_d_top', 'caudal_v_top', 'pectoral_L_top', 'pectoral_R_top', 'pelvic_L_top', 'pelvic_R_top', 'head_right', 'chin_base_right', 'chin1_4_right', 'chin_half_right', 'chin3_4_right', 'chin_tip_right', 'mid_right', 'fork_right', 'stripeA_right', 'stripeP_right', 'tail_neck_right', 'dorsal_right', 'anal_right', 'caudal_d_right', 'caudal_v_right', 'pectoral_L_right', 'pectoral_R_right', 'pelvic_L_right', 'pelvic_R_right', 'stage_left_floor_main', 'stage_right_floor_main', 'worm_1_top', 'worm_2_top', 'worm_3_top', 'worm_4_top', 'worm_5_top', 'worm_front_main', 'worm_right', 'pectoral_L_base_main', 'pectoral_R_base_main', 'pelvic_L_base_main', 'pelvic_R_base_main', 'pectoral_L_base_top', 'pectoral_R_base_top', 'pelvic_L_base_top', 'pelvic_R_base_top', 'pectoral_L_base_right', 'pectoral_R_base_right', 'pelvic_L_base_right', 'pelvic_R_base_right', 'worm_front2_main', 'worm_front3_main', 'worm_front4_main', 'worm_front5_main', 'worm_right2_right', 'worm_right3_right', 'worm_right4_right', 'worm_right5_right', 'overhead_TR_top', 'overhead_BR_top', 'overhead_BL_top', 'overhead_TL_top', 'side_mirror_TR_right', 'side_mirror_TL_right', 'side_mirror_BL_right', 'side_mirror_BR_right', 'back_wall_TR_main', 'back_wall_TL_main', 'well_TL_main', 'well_TR_main', 'well_BR_main', 'well_BL_main', 'well_above_TL_top', 'well_above_TR_top', 'well_above_BR_top', 'well_above_BL_top', 'well_side_TL_right', 'well_side_TR_right', 'well_side_BR_right', 'well_side_BL_right']\n"
     ]
    }
   ],
   "source": [
    "print(skeleton_name_list)"
   ]
  },
  {
   "cell_type": "markdown",
   "metadata": {},
   "source": [
    "from here on it works"
   ]
  },
  {
   "cell_type": "code",
   "execution_count": 488,
   "metadata": {},
   "outputs": [],
   "source": [
    "skeleton_names = skeleton_name_list\n",
    "# Split points into separate views\n",
    "multiview_idx_to_name = {}\n",
    "multiview_name_to_idx = {}\n",
    "\n",
    "for view_name in view_names:\n",
    "    multiview_name_to_idx[view_name] = []\n",
    "    new_skeleton_names = []\n",
    "for idx, name in enumerate(skeleton_names):  # was prev f[\"skeleton_names\"] building on the labels data.\n",
    "    if len(bp_to_keep) > 0:\n",
    "        skip_bp = True\n",
    "        for bp in bp_to_keep:\n",
    "            if (\n",
    "                bp == name.split(\"_\")[0]\n",
    "            ):  # bp == name.decode(\"UTF-8\").split(\"_\")[0]:\n",
    "                skip_bp = False\n",
    "        if skip_bp:\n",
    "            continue\n",
    "\n",
    "    new_skeleton_names.append(name)\n",
    "    for view_name in view_names:\n",
    "        if view_name in name.split(\"_\")[-1]:  # name.decode(\"UTF-8\").split(\"_\")[-1]:\n",
    "            multiview_idx_to_name[idx] = view_name\n",
    "            multiview_name_to_idx[view_name].append(idx)"
   ]
  },
  {
   "cell_type": "code",
   "execution_count": 489,
   "metadata": {},
   "outputs": [
    {
     "name": "stdout",
     "output_type": "stream",
     "text": [
      "{'top': [19, 20, 21, 22, 23, 24, 25, 29, 32, 33], 'main': [0, 1, 2, 3, 4, 5, 6, 10, 13, 14], 'right': [38, 39, 40, 41, 42, 43, 44, 48, 51, 52]}\n",
      "{0: 'main', 1: 'main', 2: 'main', 3: 'main', 4: 'main', 5: 'main', 6: 'main', 10: 'main', 13: 'main', 14: 'main', 19: 'top', 20: 'top', 21: 'top', 22: 'top', 23: 'top', 24: 'top', 25: 'top', 29: 'top', 32: 'top', 33: 'top', 38: 'right', 39: 'right', 40: 'right', 41: 'right', 42: 'right', 43: 'right', 44: 'right', 48: 'right', 51: 'right', 52: 'right'}\n"
     ]
    }
   ],
   "source": [
    "print(multiview_name_to_idx)\n",
    "print(multiview_idx_to_name)"
   ]
  },
  {
   "cell_type": "code",
   "execution_count": 490,
   "metadata": {},
   "outputs": [
    {
     "data": {
      "text/plain": [
       "10"
      ]
     },
     "execution_count": 490,
     "metadata": {},
     "output_type": "execute_result"
    }
   ],
   "source": [
    "num_analyzed_body_parts = int(len(new_skeleton_names) / len(view_names))\n",
    "num_analyzed_body_parts"
   ]
  },
  {
   "cell_type": "code",
   "execution_count": 491,
   "metadata": {},
   "outputs": [],
   "source": [
    "if len(bp_to_keep) > 0:\n",
    "    num_analyzed_body_parts = int(len(new_skeleton_names) / len(view_names))\n",
    "\n",
    "pts_array = labels\n",
    "offset = False\n",
    "# (num views, num frames, num points per frame, 2)\n",
    "pts_array_2d_joints = np.empty(\n",
    "    shape=(len(view_names), pts_array.shape[0], num_analyzed_body_parts, 2)\n",
    ")\n",
    "\n",
    "\n",
    "for i, view_name in enumerate(view_names):\n",
    "    # Select rows from indices\n",
    "    view_indices = multiview_name_to_idx[view_name]\n",
    "    view_points = pts_array[:, view_indices, :]\n",
    "    if offset:\n",
    "        # ToDo: make sure we can access img_settings\n",
    "        view_points[:, :, 0] -= img_settings[\"width_lims\"][i][0]\n",
    "        view_points[:, :, 1] -= img_settings[\"height_lims\"][i][0]\n",
    "    pts_array_2d_joints[i, :, :, :] = view_points"
   ]
  },
  {
   "cell_type": "code",
   "execution_count": 492,
   "metadata": {},
   "outputs": [
    {
     "name": "stdout",
     "output_type": "stream",
     "text": [
      "(3, 2630, 2)\n"
     ]
    }
   ],
   "source": [
    "# we were doing this previously (keeping it for now)\n",
    "pts_2d = pts_array_2d_joints.reshape(\n",
    "        pts_array_2d_joints.shape[0],\n",
    "        pts_array_2d_joints.shape[1] * pts_array_2d_joints.shape[2],\n",
    "        pts_array_2d_joints.shape[3],\n",
    "    )\n",
    "print(pts_2d.shape) "
   ]
  },
  {
   "cell_type": "code",
   "execution_count": 493,
   "metadata": {},
   "outputs": [],
   "source": [
    "def clean_nans(pts_array_2d=None, drop_any_nan_row=False):\n",
    "    # pts_array_2d should be (num_cams, num_frames * num_bodyparts, 2)\n",
    "    # Clean up nans\n",
    "    count_nans = np.sum(np.isnan(pts_array_2d), axis=0)[:, 0]\n",
    "    if drop_any_nan_row:\n",
    "        nan_rows = count_nans>0\n",
    "    else:\n",
    "        nan_rows = count_nans > pts_array_2d.shape[0] - 2\n",
    "    pts_all_flat = np.arange(pts_array_2d.shape[1])\n",
    "    pts_2d_filtered = pts_array_2d[:, ~nan_rows, :]\n",
    "    clean_point_indices = pts_all_flat[~nan_rows]\n",
    "    return pts_2d_filtered, clean_point_indices"
   ]
  },
  {
   "cell_type": "code",
   "execution_count": 494,
   "metadata": {},
   "outputs": [],
   "source": [
    "#from utils.utils_BA import clean_nans\n",
    "# ToDo: not sure that my cleanup makes sense (we remove bp on certain frames, but these are like independet observations so maybe ok)\n",
    "pts_2d_filtered, clean_point_indices = clean_nans(pts_2d, True) \n",
    "#pts_2d_filtered"
   ]
  },
  {
   "cell_type": "code",
   "execution_count": 495,
   "metadata": {},
   "outputs": [
    {
     "data": {
      "text/plain": [
       "(6, 1751)"
      ]
     },
     "execution_count": 495,
     "metadata": {},
     "output_type": "execute_result"
    }
   ],
   "source": [
    "arr_for_pca = np.concatenate((pts_2d_filtered[:,:,0], \n",
    "                            pts_2d_filtered[:,:,1]),  \n",
    "                             axis=0) # squeeze (x,y) coords with views\n",
    "arr_for_pca.shape"
   ]
  },
  {
   "cell_type": "code",
   "execution_count": 496,
   "metadata": {},
   "outputs": [],
   "source": [
    "# Dan: this was a good way to make sure reshaping is proper, consider introducing back\n",
    "# arr_for_pca = np.concatenate((pts_array_2d_joints[:,:,:,0], \n",
    "#                             pts_array_2d_joints[:,:,:,1]),  \n",
    "#                              axis=0) # squeeze (x,y) coords with views\n",
    "# #arr_for_pca.shape\n",
    "# arr_for_pca = arr_for_pca.reshape(6,-1) # squeeze num_bps*num_frames\n",
    "# #arr_for_pca.shape # (num_views*2, num_bps*num_frames)"
   ]
  },
  {
   "cell_type": "code",
   "execution_count": 289,
   "metadata": {},
   "outputs": [],
   "source": [
    "from sklearn.decomposition import PCA"
   ]
  },
  {
   "cell_type": "code",
   "execution_count": 497,
   "metadata": {},
   "outputs": [
    {
     "data": {
      "text/plain": [
       "PCA(n_components=4, svd_solver='full')"
      ]
     },
     "execution_count": 497,
     "metadata": {},
     "output_type": "execute_result"
    }
   ],
   "source": [
    "pca = PCA(n_components=4, svd_solver='full')\n",
    "pca.fit(arr_for_pca.T)"
   ]
  },
  {
   "cell_type": "code",
   "execution_count": 498,
   "metadata": {},
   "outputs": [
    {
     "name": "stdout",
     "output_type": "stream",
     "text": [
      "0.9487547768900934\n"
     ]
    }
   ],
   "source": [
    "print(np.sum(pca.explained_variance_ratio_))"
   ]
  },
  {
   "cell_type": "code",
   "execution_count": 499,
   "metadata": {},
   "outputs": [
    {
     "data": {
      "text/plain": [
       "(1751, 4)"
      ]
     },
     "execution_count": 499,
     "metadata": {},
     "output_type": "execute_result"
    }
   ],
   "source": [
    "reduced_data = pca.transform(arr_for_pca.T)\n",
    "reduced_data.shape"
   ]
  },
  {
   "cell_type": "code",
   "execution_count": 500,
   "metadata": {},
   "outputs": [
    {
     "data": {
      "text/plain": [
       "(1751, 6)"
      ]
     },
     "execution_count": 500,
     "metadata": {},
     "output_type": "execute_result"
    }
   ],
   "source": [
    "pca_preds = pca.inverse_transform(reduced_data)\n",
    "pca_preds.shape # same shape as arr_for_pca.T"
   ]
  },
  {
   "cell_type": "markdown",
   "metadata": {},
   "source": [
    "now we have to work our way back to the data"
   ]
  },
  {
   "cell_type": "code",
   "execution_count": 501,
   "metadata": {},
   "outputs": [],
   "source": [
    "def undo_nan_cleanup(original_arr, clean_point_indices, cleaned_arr):\n",
    "    # ToDo: add a condition that acounts for partial nan removal\n",
    "    all_point_indices = np.arange(original_arr.shape[1])\n",
    "    \n",
    "    nan_point_indices = np.asarray(\n",
    "        [x for x in all_point_indices if x not in clean_point_indices]\n",
    "    )\n",
    "    filled_points_2d = np.empty(original_arr.shape)\n",
    "    filled_points_2d[:, clean_point_indices, :] = cleaned_arr\n",
    "    filled_points_2d[:, nan_point_indices, :] = np.nan\n",
    "    return filled_points_2d\n",
    "# nan_undone = undo_nan_cleanup(pts_2d, \n",
    "#                               clean_point_indices, \n",
    "#                               pts_2d_filtered)"
   ]
  },
  {
   "cell_type": "code",
   "execution_count": 502,
   "metadata": {},
   "outputs": [
    {
     "data": {
      "text/plain": [
       "(6, 1751)"
      ]
     },
     "execution_count": 502,
     "metadata": {},
     "output_type": "execute_result"
    }
   ],
   "source": [
    "# now let's get back from PCA representation to a pts_2d_filtered rep\n",
    "# i.e., undo this:\n",
    "# arr_for_pca = np.concatenate((pts_2d_filtered[:,:,0], \n",
    "#                             pts_2d_filtered[:,:,1]),  \n",
    "#                              axis=0)\n",
    "pca_preds = pca_preds.T\n",
    "pca_preds.shape\n",
    "#recon_filtered_pts_2d = pca_preds"
   ]
  },
  {
   "cell_type": "code",
   "execution_count": 503,
   "metadata": {},
   "outputs": [
    {
     "data": {
      "text/plain": [
       "(6, 1751, 1)"
      ]
     },
     "execution_count": 503,
     "metadata": {},
     "output_type": "execute_result"
    }
   ],
   "source": [
    "expanded_preds = np.expand_dims(pca_preds,-1)\n",
    "expanded_preds.shape"
   ]
  },
  {
   "cell_type": "code",
   "execution_count": 504,
   "metadata": {},
   "outputs": [
    {
     "data": {
      "text/plain": [
       "(3, 1751, 2)"
      ]
     },
     "execution_count": 504,
     "metadata": {},
     "output_type": "execute_result"
    }
   ],
   "source": [
    "expanded_preds = np.expand_dims(pca_preds,-1)\n",
    "recon_filtered_pts_2d = np.concatenate(\n",
    "    (expanded_preds[:len(view_names), :,:],\n",
    "    expanded_preds[len(view_names):, :,:]), axis=-1)\n",
    "recon_filtered_pts_2d.shape # ToDo: check that the undoing of arr_for_pca is fine itself"
   ]
  },
  {
   "cell_type": "code",
   "execution_count": 505,
   "metadata": {},
   "outputs": [],
   "source": [
    "preds_reverted = undo_nan_cleanup(pts_2d, \n",
    "                              clean_point_indices, \n",
    "                              recon_filtered_pts_2d)"
   ]
  },
  {
   "cell_type": "code",
   "execution_count": 506,
   "metadata": {},
   "outputs": [
    {
     "data": {
      "text/plain": [
       "True"
      ]
     },
     "execution_count": 506,
     "metadata": {},
     "output_type": "execute_result"
    }
   ],
   "source": [
    "preds_reverted.shape == pts_2d.shape"
   ]
  },
  {
   "cell_type": "code",
   "execution_count": 507,
   "metadata": {},
   "outputs": [
    {
     "data": {
      "text/plain": [
       "3"
      ]
     },
     "execution_count": 507,
     "metadata": {},
     "output_type": "execute_result"
    }
   ],
   "source": [
    "preds_reverted.shape[0]"
   ]
  },
  {
   "cell_type": "code",
   "execution_count": 508,
   "metadata": {},
   "outputs": [
    {
     "data": {
      "image/png": "[encoded data removed]",
      "text/plain": [
       "<Figure size 432x288 with 6 Axes>"
      ]
     },
     "metadata": {
      "needs_background": "light"
     },
     "output_type": "display_data"
    }
   ],
   "source": [
    "num_PCs = 4\n",
    "fig, ax = plt.subplots(3,2)\n",
    "for i in range(preds_reverted.shape[0]):\n",
    "    for j in range(preds_reverted.shape[-1]):\n",
    "        ax[i,j].plot(pts_2d[i,:,j].T, 'r')\n",
    "        ax[i,j].plot(preds_reverted[i,:,j].T, 'k--')\n",
    "        ax[i,j].set_title('view: %i coord: %i' % (i,j))\n",
    "ax[i,j].legend(['true', 'pred'])\n",
    "fig.suptitle('Prediction by first %i PCs, explained var=%.2f' % (num_PCs, np.sum(pca.explained_variance_ratio_)))\n",
    "fig.tight_layout()\n",
    "\n",
    "plt.savefig('preds_by_4_pc_fish.png')\n",
    "\n",
    "\n",
    "    \n",
    "# plt.plot(preds_reverted[:,:,0].T)\n",
    "# plt.plot(pts_2d[:,:,0].T)"
   ]
  },
  {
   "cell_type": "code",
   "execution_count": 509,
   "metadata": {},
   "outputs": [],
   "source": [
    "pts_2d_reshaped = pts_2d.reshape(pts_array_2d_joints.shape)\n",
    "preds_reshaped = preds_reverted.reshape(pts_array_2d_joints.shape)"
   ]
  },
  {
   "cell_type": "code",
   "execution_count": 510,
   "metadata": {},
   "outputs": [
    {
     "data": {
      "text/plain": [
       "(3, 263, 10, 2)"
      ]
     },
     "execution_count": 510,
     "metadata": {},
     "output_type": "execute_result"
    }
   ],
   "source": [
    "preds_reshaped.shape"
   ]
  },
  {
   "cell_type": "code",
   "execution_count": 511,
   "metadata": {},
   "outputs": [],
   "source": [
    "points_dir = Path(\"./PCA_reproj\").resolve()\n",
    "points_dir.mkdir(parents=True, exist_ok=True)"
   ]
  },
  {
   "cell_type": "code",
   "execution_count": 512,
   "metadata": {},
   "outputs": [
    {
     "data": {
      "text/plain": [
       "PosixPath('/Users/danbiderman/Dropbox/Columbia/1.Dan/Research/Paninski/3D-Animal-Pose/PCA_reproj/im_2.png')"
      ]
     },
     "execution_count": 512,
     "metadata": {},
     "output_type": "execute_result"
    }
   ],
   "source": [
    "points_dir / ('im_%i.png' %i)"
   ]
  },
  {
   "cell_type": "code",
   "execution_count": 483,
   "metadata": {},
   "outputs": [
    {
     "data": {
      "image/png": "[encoded data removed]",
      "text/plain": [
       "<Figure size 432x288 with 1 Axes>"
      ]
     },
     "metadata": {
      "needs_background": "light"
     },
     "output_type": "display_data"
    }
   ],
   "source": [
    "#images.shape\n",
    "for i in range(preds_reshaped.shape[1]):\n",
    "    plt.cla()\n",
    "    plt.axis('off')\n",
    "    plt.imshow(images[i,:,:,0], \"gray\")\n",
    "    plt.scatter(pts_2d_reshaped[:,i,:,0].flatten(), pts_2d_reshaped[:,i,:,1].flatten())\n",
    "    plt.scatter(preds_reshaped[:,i,:,0].flatten(), pts_2d_reshaped[:,i,:,1].flatten(), marker = '+')\n",
    "    plt.legend([\"true\", \"pred\"])\n",
    "    plt.title('Prediction by first %i PCs, explained var=%.2f' % (num_PCs, np.sum(pca.explained_variance_ratio_)))\n",
    "    plt.text(x=20, y=30, s = 'Fr. %i' %i, color = 'red', fontsize = 20)\n",
    "    plt.savefig(points_dir / ('im_%04d.png' %i))\n",
    "    plt.xlabels = []"
   ]
  },
  {
   "cell_type": "code",
   "execution_count": 484,
   "metadata": {},
   "outputs": [],
   "source": [
    "# make video from these images\n",
    "image_folder = points_dir\n",
    "import cv2\n",
    "import os\n",
    "im_list = os.listdir(image_folder)\n",
    "im_list.sort()\n",
    "im_list = im_list[1:]\n",
    " \n",
    "img_array = []\n",
    "for filename in im_list:\n",
    "    img = cv2.imread(os.path.join(image_folder, filename))\n",
    "    height, width, layers = img.shape\n",
    "    size = (width,height)\n",
    "    img_array.append(img)\n",
    "\n",
    "out = cv2.VideoWriter('video_PC_4.mov',\n",
    "                      cv2.VideoWriter_fourcc(*'DIVX'), \n",
    "                      2, size) # \n",
    " \n",
    "for i in range(len(img_array)):\n",
    "    out.write(img_array[i])\n",
    "out.release()"
   ]
  },
  {
   "cell_type": "code",
   "execution_count": 449,
   "metadata": {},
   "outputs": [
    {
     "data": {
      "text/plain": [
       "(432, 288)"
      ]
     },
     "execution_count": 449,
     "metadata": {},
     "output_type": "execute_result"
    }
   ],
   "source": [
    "size"
   ]
  },
  {
   "cell_type": "code",
   "execution_count": 183,
   "metadata": {},
   "outputs": [],
   "source": [
    "# # using filter() + lambda  \n",
    "# # to get string with substring\n",
    "# res = []\n",
    "# for subs in bp_to_keep:\n",
    "#     res.append(list(filter(lambda x: subs in x, skeleton_name_list)))\n",
    "#     # below returns the names\n",
    "#     #res.append(list(filter(lambda x: subs in x, skeleton_name_list)))"
   ]
  },
  {
   "cell_type": "code",
   "execution_count": null,
   "metadata": {},
   "outputs": [],
   "source": [
    "# strings = skeleton_name_list\n",
    "# substring = 'tail'\n",
    "# for substring in bp_to_keep:\n",
    "#     strings_with_substring.append([string for string in strings if substring in string])"
   ]
  },
  {
   "cell_type": "code",
   "execution_count": 514,
   "metadata": {},
   "outputs": [],
   "source": [
    "# offset = False\n",
    "# # (num views, num frames, num points per frame, 2)\n",
    "# pts_array_2d_joints = np.empty(\n",
    "#     shape=(len(view_names), pts_array.shape[0], num_analyzed_body_parts, 2)\n",
    "# )\n",
    "\n",
    "# confidences_bp = np.empty(\n",
    "#     shape=(len(view_names), pts_array.shape[0], num_analyzed_body_parts)\n",
    "# )\n",
    "\n",
    "# for i, view_name in enumerate(view_names):\n",
    "#     # Select rows from indices\n",
    "#     view_indices = multiview_name_to_idx[view_name]\n",
    "#     view_points = pts_array[:, view_indices, :]\n",
    "#     if offset:\n",
    "#         view_points[:, :, 0] -= img_settings[\"width_lims\"][i][0]\n",
    "#         view_points[:, :, 1] -= img_settings[\"height_lims\"][i][0]\n",
    "#     pts_array_2d_joints[i, :, :, :] = view_points"
   ]
  },
  {
   "cell_type": "code",
   "execution_count": 513,
   "metadata": {},
   "outputs": [],
   "source": [
    "# # now want to pick certain body parts\n",
    "# # first create an array for one body part from three views\n",
    "# separated_list = [j.split('_') for j in skeleton_name_list]\n",
    "# separated_list"
   ]
  },
  {
   "cell_type": "code",
   "execution_count": null,
   "metadata": {},
   "outputs": [],
   "source": []
  }
 ],
 "metadata": {
  "kernelspec": {
   "display_name": "Python [conda env:bundle-adjust]",
   "language": "python",
   "name": "conda-env-bundle-adjust-py"
  },
  "language_info": {
   "codemirror_mode": {
    "name": "ipython",
    "version": 3
   },
   "file_extension": ".py",
   "mimetype": "text/x-python",
   "name": "python",
   "nbconvert_exporter": "python",
   "pygments_lexer": "ipython3",
   "version": "3.7.7"
  }
 },
 "nbformat": 4,
 "nbformat_minor": 2
}
